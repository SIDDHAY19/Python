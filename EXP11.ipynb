{
  "nbformat": 4,
  "nbformat_minor": 0,
  "metadata": {
    "colab": {
      "provenance": [],
      "include_colab_link": true
    },
    "kernelspec": {
      "name": "python3",
      "display_name": "Python 3"
    },
    "language_info": {
      "name": "python"
    }
  },
  "cells": [
    {
      "cell_type": "markdown",
      "metadata": {
        "id": "view-in-github",
        "colab_type": "text"
      },
      "source": [
        "<a href=\"https://colab.research.google.com/github/SIDDHAY19/Python/blob/main/EXP11.ipynb\" target=\"_parent\"><img src=\"https://colab.research.google.com/assets/colab-badge.svg\" alt=\"Open In Colab\"/></a>"
      ]
    },
    {
      "cell_type": "code",
      "execution_count": null,
      "metadata": {
        "id": "FEfD4pRxHMgf"
      },
      "outputs": [],
      "source": [
        "import numpy as np"
      ]
    },
    {
      "cell_type": "code",
      "source": [
        "arr1d = np.array([1, 2, 3, 4, 5])\n",
        "print(\"1D Array: \")\n",
        "print(arr1d)"
      ],
      "metadata": {
        "colab": {
          "base_uri": "https://localhost:8080/"
        },
        "id": "vnnctwxlHnlx",
        "outputId": "aa725543-87de-4c93-dff5-c14b0841f182"
      },
      "execution_count": null,
      "outputs": [
        {
          "output_type": "stream",
          "name": "stdout",
          "text": [
            "1D Array: \n",
            "[1 2 3 4 5]\n"
          ]
        }
      ]
    },
    {
      "cell_type": "code",
      "source": [
        "arr2d = np.array([[1, 2, 3], [4, 5, 6], [7, 8, 9], [10, 11, 12]])\n",
        "print(\"\\n2D Array: \")\n",
        "print(arr2d)"
      ],
      "metadata": {
        "colab": {
          "base_uri": "https://localhost:8080/"
        },
        "id": "TVK21tBrHuCg",
        "outputId": "ab146a2b-0b6e-4b69-9c40-9bac9a35d8d9"
      },
      "execution_count": null,
      "outputs": [
        {
          "output_type": "stream",
          "name": "stdout",
          "text": [
            "\n",
            "2D Array: \n",
            "[[ 1  2  3]\n",
            " [ 4  5  6]\n",
            " [ 7  8  9]\n",
            " [10 11 12]]\n"
          ]
        }
      ]
    },
    {
      "cell_type": "code",
      "source": [
        "arr3d = np.array([[[1, 2, 3], [4, 5, 6]], [[7, 8, 9], [10, 11, 12]]])\n",
        "print(\"\\n3D Array: \")\n",
        "print(arr3d)"
      ],
      "metadata": {
        "colab": {
          "base_uri": "https://localhost:8080/"
        },
        "id": "uSqbBPsXKeWu",
        "outputId": "ce2d9d87-81fc-4b6b-d97a-9f9adaa180ae"
      },
      "execution_count": null,
      "outputs": [
        {
          "output_type": "stream",
          "name": "stdout",
          "text": [
            "\n",
            "3D Array: \n",
            "[[[ 1  2  3]\n",
            "  [ 4  5  6]]\n",
            "\n",
            " [[ 7  8  9]\n",
            "  [10 11 12]]]\n"
          ]
        }
      ]
    },
    {
      "cell_type": "code",
      "source": [
        "print(\"\\nAddition of 1D and 1D array:\")\n",
        "arr_sum = np.array([1, 2, 3]) + np.array([3, 2, 1])\n",
        "print(arr_sum)\n",
        "\n",
        "print(\"\\nConcatenation of 1D array with itself:\")\n",
        "print(np.concatenate([arr1d, arr1d]))\n",
        "\n",
        "print(\"\\nMultiplication of 2D array with a 2D array:\")\n",
        "arr1 = np.array([[1, 2], [3, 4]])\n",
        "arr2 = np.array([[5, 6], [7, 8]])\n",
        "print(np.dot(arr1, arr2))\n",
        "\n",
        "print(\"\\nSum of the first 2D array of 3D array:\")\n",
        "print(arr3d[0, ...].sum())"
      ],
      "metadata": {
        "colab": {
          "base_uri": "https://localhost:8080/"
        },
        "id": "3rFYZet-KgUw",
        "outputId": "583845fa-0364-4c43-818c-bba052750262"
      },
      "execution_count": null,
      "outputs": [
        {
          "output_type": "stream",
          "name": "stdout",
          "text": [
            "\n",
            "Addition of 1D and 1D array:\n",
            "[4 4 4]\n",
            "\n",
            "Concatenation of 1D array with itself:\n",
            "[1 2 3 4 5 1 2 3 4 5]\n",
            "\n",
            "Multiplication of 2D array with a 2D array:\n",
            "[[19 22]\n",
            " [43 50]]\n",
            "\n",
            "Sum of the first 2D array of 3D array:\n",
            "21\n"
          ]
        }
      ]
    },
    {
      "cell_type": "code",
      "source": [],
      "metadata": {
        "id": "0IRWuXo3KlRB"
      },
      "execution_count": null,
      "outputs": []
    }
  ]
}