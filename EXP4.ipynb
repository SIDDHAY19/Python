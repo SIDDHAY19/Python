{
  "nbformat": 4,
  "nbformat_minor": 0,
  "metadata": {
    "colab": {
      "provenance": [],
      "include_colab_link": true
    },
    "kernelspec": {
      "name": "python3",
      "display_name": "Python 3"
    },
    "language_info": {
      "name": "python"
    }
  },
  "cells": [
    {
      "cell_type": "markdown",
      "metadata": {
        "id": "view-in-github",
        "colab_type": "text"
      },
      "source": [
        "<a href=\"https://colab.research.google.com/github/SIDDHAY19/Python/blob/main/EXP4.ipynb\" target=\"_parent\"><img src=\"https://colab.research.google.com/assets/colab-badge.svg\" alt=\"Open In Colab\"/></a>"
      ]
    },
    {
      "cell_type": "code",
      "execution_count": null,
      "metadata": {
        "id": "DivDWRnuCXxG"
      },
      "outputs": [],
      "source": [
        "file = open('C:/Users/student/desktop/harsh.txt','r')\n",
        "print(file.read())\n",
        "\n",
        "file = open('C:/Users/student/desktop/harsh.txt', 'a')\n",
        "file.write(\"\\nThis will add this line\")\n",
        "file.close()\n",
        "\n",
        "file = open('C:/Users/student/desktop/harsh.txt','r')\n",
        "print(file.read())"
      ]
    }
  ]
}