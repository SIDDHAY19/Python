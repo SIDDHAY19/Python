{
  "nbformat": 4,
  "nbformat_minor": 0,
  "metadata": {
    "colab": {
      "provenance": [],
      "include_colab_link": true
    },
    "kernelspec": {
      "name": "python3",
      "display_name": "Python 3"
    },
    "language_info": {
      "name": "python"
    }
  },
  "cells": [
    {
      "cell_type": "markdown",
      "metadata": {
        "id": "view-in-github",
        "colab_type": "text"
      },
      "source": [
        "<a href=\"https://colab.research.google.com/github/SIDDHAY19/Python/blob/main/EXP6.ipynb\" target=\"_parent\"><img src=\"https://colab.research.google.com/assets/colab-badge.svg\" alt=\"Open In Colab\"/></a>"
      ]
    },
    {
      "cell_type": "code",
      "execution_count": null,
      "metadata": {
        "id": "Y2ox2smGCzk-"
      },
      "outputs": [],
      "source": [
        "import tkinter\n",
        "from tkinter import *\n",
        "\n",
        "base = Tk()\n",
        "base.geometry('500x500')\n",
        "base.title(\"Registration Form\")\n",
        "labl_0 = Label(base, text=\"Registration form\", width=20, font=(\"bold\", 20))\n",
        "labl_0.place(x=90, y=53)\n",
        "\n",
        "labl_1 = Label(base, text=\"Full Name\", width=20, font=(\"bold\", 10))\n",
        "labl_1.place(x=80, y=130)\n",
        "entry_1 = Entry(base)\n",
        "entry_1.place(x=240, y=130)\n",
        "\n",
        "labl_2 = Label(base, text=\"Email\", width=20, font=(\"bold\", 10))\n",
        "labl_2.place(x=68, y=180)\n",
        "entry_02 = Entry(base)\n",
        "entry_02.place(x=240, y=180)\n",
        "\n",
        "labl_3 = Label(base, text=\"Gender\", width=20, font=(\"bold\", 10))\n",
        "labl_3.place(x=70, y=230)\n",
        "\n",
        "varblbl = IntVar()\n",
        "Radiobutton(base, text=\"Male\", padx=5, variable=varblbl, value=1).place(x=235, y=230)\n",
        "Radiobutton(base, text=\"Female\", padx=20, variable=varblbl, value=2).place(x=290, y=230)\n",
        "\n",
        "labl_4 = Label(base, text=\"Age:\", width=20, font=(\"bold\", 10))\n",
        "labl_4.place(x=70, y=280)\n",
        "\n",
        "entry_03 = Entry(base)\n",
        "entry_03.place(x=240, y=280)\n",
        "\n",
        "Button(base, text='Submit', width=20, bg='brown', fg='white').place(x=180, y=380)\n",
        "\n",
        "base.mainloop()\n",
        "\n",
        "print(\"Registration form is created successfully...\")"
      ]
    }
  ]
}