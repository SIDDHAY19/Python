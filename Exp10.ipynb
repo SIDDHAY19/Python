{
  "nbformat": 4,
  "nbformat_minor": 0,
  "metadata": {
    "colab": {
      "provenance": [],
      "include_colab_link": true
    },
    "kernelspec": {
      "name": "python3",
      "display_name": "Python 3"
    },
    "language_info": {
      "name": "python"
    }
  },
  "cells": [
    {
      "cell_type": "markdown",
      "metadata": {
        "id": "view-in-github",
        "colab_type": "text"
      },
      "source": [
        "<a href=\"https://colab.research.google.com/github/SIDDHAY19/Python/blob/main/Exp10.ipynb\" target=\"_parent\"><img src=\"https://colab.research.google.com/assets/colab-badge.svg\" alt=\"Open In Colab\"/></a>"
      ]
    },
    {
      "cell_type": "code",
      "execution_count": null,
      "metadata": {
        "colab": {
          "base_uri": "https://localhost:8080/"
        },
        "id": "tIi4fetFBrED",
        "outputId": "b5e3ac55-62fc-48bc-984a-fe5e0a319666"
      },
      "outputs": [
        {
          "output_type": "stream",
          "name": "stdout",
          "text": [
            "[27.78108269  5.28811773  4.28316478 13.52272727]\n"
          ]
        }
      ],
      "source": [
        "import numpy as np\n",
        "\n",
        "height = [1.23,3.26,4.1,2.2]\n",
        "weight = [42.03,56.2,72,65.45]\n",
        "np_height = np.array(height)\n",
        "np_weight = np.array(weight)\n",
        "bmi = np_weight/ np_height ** 2\n",
        "print(bmi)"
      ]
    }
  ]
}